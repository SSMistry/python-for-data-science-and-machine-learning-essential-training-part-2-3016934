{
  "cells": [
    {
      "cell_type": "markdown",
      "metadata": {
        "id": "mlL2uHNf8wGG"
      },
      "source": [
        "## Introduction to NLP"
      ]
    },
    {
      "cell_type": "code",
      "execution_count": 1,
      "metadata": {
        "id": "8GXs4ZQq8wGH",
        "outputId": "d3fc242a-068b-4f9e-fe1c-3ab940142998",
        "colab": {
          "base_uri": "https://localhost:8080/"
        }
      },
      "outputs": [
        {
          "output_type": "stream",
          "name": "stdout",
          "text": [
            "Requirement already satisfied: nltk in /usr/local/lib/python3.11/dist-packages (3.9.1)\n",
            "Requirement already satisfied: click in /usr/local/lib/python3.11/dist-packages (from nltk) (8.2.0)\n",
            "Requirement already satisfied: joblib in /usr/local/lib/python3.11/dist-packages (from nltk) (1.5.0)\n",
            "Requirement already satisfied: regex>=2021.8.3 in /usr/local/lib/python3.11/dist-packages (from nltk) (2024.11.6)\n",
            "Requirement already satisfied: tqdm in /usr/local/lib/python3.11/dist-packages (from nltk) (4.67.1)\n"
          ]
        }
      ],
      "source": [
        "!pip install nltk\n",
        "import nltk"
      ]
    },
    {
      "cell_type": "code",
      "execution_count": 2,
      "metadata": {
        "id": "bc1rSbL_8wGI"
      },
      "outputs": [],
      "source": [
        "text = \"On Wednesday, the Association for Computing Machinery, the world’s largest society of computing professionals, announced that Hinton, LeCun and Bengio had won this year’s Turing Award for their work on neural networks. The Turing Award, which was introduced in 1966, is often called the Nobel Prize of computing, and it includes a $1 million prize, which the three scientists will share.\""
      ]
    },
    {
      "cell_type": "code",
      "execution_count": 3,
      "metadata": {
        "id": "GPY8Codm8wGJ",
        "outputId": "306369a6-08b2-4f65-e75b-f5ae6c517765",
        "colab": {
          "base_uri": "https://localhost:8080/"
        }
      },
      "outputs": [
        {
          "output_type": "stream",
          "name": "stderr",
          "text": [
            "[nltk_data] Downloading package punkt to /root/nltk_data...\n",
            "[nltk_data]   Unzipping tokenizers/punkt.zip.\n",
            "[nltk_data] Downloading package punkt_tab to /root/nltk_data...\n",
            "[nltk_data]   Unzipping tokenizers/punkt_tab.zip.\n"
          ]
        },
        {
          "output_type": "execute_result",
          "data": {
            "text/plain": [
              "True"
            ]
          },
          "metadata": {},
          "execution_count": 3
        }
      ],
      "source": [
        "nltk.download('punkt')\n",
        "nltk.download( 'punkt_tab' )"
      ]
    },
    {
      "cell_type": "code",
      "execution_count": 4,
      "metadata": {
        "scrolled": true,
        "id": "Je7AHkI88wGJ",
        "outputId": "be88daaa-9425-40e4-bf98-746a8855c2b4",
        "colab": {
          "base_uri": "https://localhost:8080/"
        }
      },
      "outputs": [
        {
          "output_type": "stream",
          "name": "stdout",
          "text": [
            "Sentence tokenising the text: \n",
            "\n",
            "['On Wednesday, the Association for Computing Machinery, the world’s largest society of computing professionals, announced that Hinton, LeCun and Bengio had won this year’s Turing Award for their work on neural networks.', 'The Turing Award, which was introduced in 1966, is often called the Nobel Prize of computing, and it includes a $1 million prize, which the three scientists will share.']\n"
          ]
        }
      ],
      "source": [
        "# Sentence tokenisation\n",
        "from nltk.tokenize import sent_tokenize\n",
        "sent_tk = sent_tokenize( text )\n",
        "\n",
        "print( \"Sentence tokenising the text: \\n\" )\n",
        "print( sent_tk )"
      ]
    },
    {
      "cell_type": "code",
      "execution_count": 5,
      "metadata": {
        "scrolled": true,
        "id": "xSOP3_j68wGJ",
        "outputId": "966e3352-a5bc-4d6f-ffc6-b787053be8d6",
        "colab": {
          "base_uri": "https://localhost:8080/"
        }
      },
      "outputs": [
        {
          "output_type": "stream",
          "name": "stdout",
          "text": [
            "Word tokenising the text: \n",
            "\n",
            "['On', 'Wednesday', ',', 'the', 'Association', 'for', 'Computing', 'Machinery', ',', 'the', 'world', '’', 's', 'largest', 'society', 'of', 'computing', 'professionals', ',', 'announced', 'that', 'Hinton', ',', 'LeCun', 'and', 'Bengio', 'had', 'won', 'this', 'year', '’', 's', 'Turing', 'Award', 'for', 'their', 'work', 'on', 'neural', 'networks', '.', 'The', 'Turing', 'Award', ',', 'which', 'was', 'introduced', 'in', '1966', ',', 'is', 'often', 'called', 'the', 'Nobel', 'Prize', 'of', 'computing', ',', 'and', 'it', 'includes', 'a', '$', '1', 'million', 'prize', ',', 'which', 'the', 'three', 'scientists', 'will', 'share', '.']\n"
          ]
        }
      ],
      "source": [
        "# word tokenisation\n",
        "from nltk.tokenize import word_tokenize\n",
        "word_tk = word_tokenize( text )\n",
        "\n",
        "print( \"Word tokenising the text: \\n\" )\n",
        "print( word_tk )"
      ]
    },
    {
      "cell_type": "code",
      "execution_count": 6,
      "metadata": {
        "id": "IkhbGykd8wGJ",
        "outputId": "c65f4c43-faf8-48be-9123-65ba2b727693",
        "colab": {
          "base_uri": "https://localhost:8080/"
        }
      },
      "outputs": [
        {
          "output_type": "stream",
          "name": "stderr",
          "text": [
            "[nltk_data] Downloading package stopwords to /root/nltk_data...\n",
            "[nltk_data]   Unzipping corpora/stopwords.zip.\n"
          ]
        },
        {
          "output_type": "execute_result",
          "data": {
            "text/plain": [
              "True"
            ]
          },
          "metadata": {},
          "execution_count": 6
        }
      ],
      "source": [
        "# removing stop words (noisy text)\n",
        "nltk.download( 'stopwords' )"
      ]
    },
    {
      "cell_type": "code",
      "execution_count": 9,
      "metadata": {
        "id": "sV58yGXn8wGJ",
        "outputId": "d6692f8d-b8c1-48e2-bdfb-5dd07fd9f4ee",
        "colab": {
          "base_uri": "https://localhost:8080/"
        }
      },
      "outputs": [
        {
          "output_type": "stream",
          "name": "stdout",
          "text": [
            "Stop words in English are: \n",
            "\n",
            "{'further', 'our', \"should've\", 'again', 'can', 'up', 'him', 'which', 'you', 'these', 'yourselves', 'doing', 'weren', 'couldn', 'shan', 'they', 'until', \"we've\", \"she'd\", 'them', \"he'll\", \"you'd\", 'y', 'been', 'their', 'most', 'over', 'she', 'was', \"wouldn't\", 'isn', 'this', 'will', 'theirs', 'to', \"he's\", 'have', 'no', 'do', 'through', 'nor', 'once', 'he', 'only', 'own', 'for', 'where', 'but', 'those', 'be', 'as', 'from', 'its', 'too', \"they'll\", 'we', 'in', 're', 'while', 'll', \"it'd\", 'itself', 'after', 'mustn', 'so', 'my', 'when', 'ma', 'any', 'each', \"she'll\", 'has', 'not', 'same', \"don't\", 'hasn', 'didn', \"couldn't\", \"i'll\", 'between', \"weren't\", \"mightn't\", 'such', 'yourself', 'had', 'by', 'about', 'why', \"it'll\", 'd', 'mightn', 't', 'hers', \"aren't\", 'that', 'here', 'being', 'with', 'or', \"that'll\", 'aren', 'above', 'there', \"it's\", 'very', 'doesn', 'if', 'wouldn', 'a', 'needn', 'myself', \"didn't\", 'were', \"hasn't\", 'below', 'out', 'did', 'shouldn', 'me', 'than', 've', \"doesn't\", 'ours', \"she's\", \"mustn't\", 'whom', \"you've\", 'does', 'some', 'yours', 'both', \"we'd\", 'of', 'against', 'i', \"needn't\", \"they'd\", 'his', 'down', \"isn't\", \"they've\", 'how', 'into', 'during', 'having', 'all', 'ain', \"i'm\", 'at', 'hadn', 'haven', 'wasn', 'what', 'her', 'should', 'now', \"won't\", \"he'd\", \"they're\", 'herself', 'himself', 'then', 'o', 'on', \"wasn't\", 'who', \"shan't\", 'other', 'off', 'and', 'because', \"i'd\", 'are', \"you'll\", \"we're\", \"shouldn't\", 'am', 'themselves', 'ourselves', 'few', 'before', 'is', 'don', 'just', \"you're\", \"i've\", 'm', \"we'll\", \"haven't\", 'more', 'it', 'won', 'under', \"hadn't\", 's', 'the', 'your', 'an'}\n"
          ]
        }
      ],
      "source": [
        "from nltk.corpus import stopwords\n",
        "sw = set( stopwords.words( \"english\" ) )\n",
        "\n",
        "print( \"Stop words in English are: \\n\" )\n",
        "print( sw )"
      ]
    },
    {
      "cell_type": "code",
      "execution_count": 11,
      "metadata": {
        "id": "bXvYo0Z38wGJ",
        "outputId": "09276f55-5bf6-4498-f381-4fe8db917618",
        "colab": {
          "base_uri": "https://localhost:8080/"
        }
      },
      "outputs": [
        {
          "output_type": "stream",
          "name": "stdout",
          "text": [
            "Filtered words are: \n",
            "\n",
            "['On', 'Wednesday', ',', 'Association', 'Computing', 'Machinery', ',', 'world', '’', 'largest', 'society', 'computing', 'professionals', ',', 'announced', 'Hinton', ',', 'LeCun', 'Bengio', 'year', '’', 'Turing', 'Award', 'work', 'neural', 'networks', '.', 'The', 'Turing', 'Award', ',', 'introduced', '1966', ',', 'often', 'called', 'Nobel', 'Prize', 'computing', ',', 'includes', '$', '1', 'million', 'prize', ',', 'three', 'scientists', 'share', '.']\n"
          ]
        }
      ],
      "source": [
        "# print all words in word_tk if not in sw\n",
        "filtered_words = [ w for w in word_tk if not w in sw ]\n",
        "\n",
        "print( \"Filtered words are: \\n\")\n",
        "print( filtered_words )"
      ]
    },
    {
      "cell_type": "code",
      "execution_count": 12,
      "metadata": {
        "scrolled": true,
        "id": "nzQv77ba8wGJ"
      },
      "outputs": [],
      "source": [
        "# Stemming\n",
        "from nltk.stem import PorterStemmer\n",
        "port_stem = PorterStemmer()"
      ]
    },
    {
      "cell_type": "code",
      "execution_count": 14,
      "metadata": {
        "id": "vHLdPq428wGK",
        "outputId": "b4c592c9-be2c-49cd-d9fe-942cce2752d8",
        "colab": {
          "base_uri": "https://localhost:8080/"
        }
      },
      "outputs": [
        {
          "output_type": "stream",
          "name": "stdout",
          "text": [
            "Filtered sentence: \n",
            " ['On', 'Wednesday', ',', 'Association', 'Computing', 'Machinery', ',', 'world', '’', 'largest', 'society', 'computing', 'professionals', ',', 'announced', 'Hinton', ',', 'LeCun', 'Bengio', 'year', '’', 'Turing', 'Award', 'work', 'neural', 'networks', '.', 'The', 'Turing', 'Award', ',', 'introduced', '1966', ',', 'often', 'called', 'Nobel', 'Prize', 'computing', ',', 'includes', '$', '1', 'million', 'prize', ',', 'three', 'scientists', 'share', '.'] \n",
            "\n",
            "Stemmed sentence: \n",
            " ['on', 'wednesday', ',', 'associ', 'comput', 'machineri', ',', 'world', '’', 'largest', 'societi', 'comput', 'profession', ',', 'announc', 'hinton', ',', 'lecun', 'bengio', 'year', '’', 'ture', 'award', 'work', 'neural', 'network', '.', 'the', 'ture', 'award', ',', 'introduc', '1966', ',', 'often', 'call', 'nobel', 'prize', 'comput', ',', 'includ', '$', '1', 'million', 'prize', ',', 'three', 'scientist', 'share', '.']\n"
          ]
        }
      ],
      "source": [
        "# empty list to load with stemmed words\n",
        "stemmed_words = []\n",
        "\n",
        "for w in filtered_words:\n",
        "  stemmed_words.append( port_stem.stem( w ) )\n",
        "\n",
        "print( \"Filtered sentence: \\n\", filtered_words, \"\\n\" )\n",
        "print( \"Stemmed sentence: \\n\", stemmed_words )"
      ]
    },
    {
      "cell_type": "code",
      "execution_count": null,
      "metadata": {
        "id": "EG0kg54t8wGK"
      },
      "outputs": [],
      "source": []
    },
    {
      "cell_type": "code",
      "execution_count": null,
      "metadata": {
        "id": "6L9SNKdK8wGK"
      },
      "outputs": [],
      "source": []
    },
    {
      "cell_type": "code",
      "execution_count": null,
      "metadata": {
        "id": "Icqzrjxv8wGK"
      },
      "outputs": [],
      "source": []
    },
    {
      "cell_type": "code",
      "execution_count": null,
      "metadata": {
        "id": "zOupcY_Q8wGK"
      },
      "outputs": [],
      "source": []
    },
    {
      "cell_type": "code",
      "execution_count": null,
      "metadata": {
        "id": "sWPL4arr8wGK"
      },
      "outputs": [],
      "source": []
    },
    {
      "cell_type": "code",
      "execution_count": null,
      "metadata": {
        "id": "CM2oYYHG8wGK"
      },
      "outputs": [],
      "source": []
    },
    {
      "cell_type": "code",
      "execution_count": null,
      "metadata": {
        "id": "Y_9I7koR8wGK"
      },
      "outputs": [],
      "source": []
    }
  ],
  "metadata": {
    "kernelspec": {
      "display_name": "Python 3 (ipykernel)",
      "language": "python",
      "name": "python3"
    },
    "language_info": {
      "codemirror_mode": {
        "name": "ipython",
        "version": 3
      },
      "file_extension": ".py",
      "mimetype": "text/x-python",
      "name": "python",
      "nbconvert_exporter": "python",
      "pygments_lexer": "ipython3",
      "version": "3.10.13"
    },
    "colab": {
      "provenance": []
    }
  },
  "nbformat": 4,
  "nbformat_minor": 0
}