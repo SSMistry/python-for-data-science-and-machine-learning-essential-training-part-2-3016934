{
  "cells": [
    {
      "cell_type": "markdown",
      "metadata": {
        "collapsed": true,
        "id": "9UA_AS91pGxW"
      },
      "source": [
        "## Hierarchial methods"
      ]
    },
    {
      "cell_type": "code",
      "execution_count": 1,
      "metadata": {
        "id": "Z8e5FMEjpGxb"
      },
      "outputs": [],
      "source": [
        "import numpy as np\n",
        "import pandas as pd\n",
        "\n",
        "import matplotlib.pyplot as plt\n",
        "from pylab import rcParams\n",
        "import seaborn as sns\n",
        "\n",
        "import sklearn\n",
        "import sklearn.metrics as sm"
      ]
    },
    {
      "cell_type": "code",
      "execution_count": 2,
      "metadata": {
        "id": "e5A3yTvbpGxd"
      },
      "outputs": [],
      "source": [
        "from sklearn.cluster import AgglomerativeClustering\n",
        "import scipy\n",
        "from scipy.cluster.hierarchy import dendrogram, linkage\n",
        "from scipy.cluster.hierarchy import fcluster\n",
        "from scipy.spatial.distance import pdist"
      ]
    },
    {
      "cell_type": "code",
      "execution_count": 3,
      "metadata": {
        "id": "s8zGQAUPpGxe",
        "outputId": "a586d87d-aac6-4708-c3a7-749c270c878b",
        "colab": {
          "base_uri": "https://localhost:8080/",
          "height": 34
        }
      },
      "outputs": [
        {
          "output_type": "display_data",
          "data": {
            "text/plain": [
              "<Figure size 1000x300 with 0 Axes>"
            ]
          },
          "metadata": {}
        }
      ],
      "source": [
        "np.set_printoptions(precision=4, suppress=True)\n",
        "plt.figure(figsize=(10, 3))\n",
        "%matplotlib inline\n",
        "sns.set_style(\"whitegrid\")"
      ]
    },
    {
      "cell_type": "code",
      "execution_count": 4,
      "metadata": {
        "id": "Sv7_pYbZpGxe"
      },
      "outputs": [],
      "source": [
        "address = '/content/mtcars.csv'\n",
        "\n",
        "cars = pd.read_csv( address )\n",
        "cars.columns = ['car_names','mpg','cyl','disp','hp','drat','wt','qsec','vs','am','gear','carb']\n",
        "\n",
        "x = cars[['mpg','disp','hp','wt']].values\n",
        "y = cars.iloc[:,9].values"
      ]
    },
    {
      "cell_type": "markdown",
      "metadata": {
        "collapsed": true,
        "id": "vJCIm5-2pGxf"
      },
      "source": [
        "### Using scipy to generate dendrograms"
      ]
    },
    {
      "cell_type": "code",
      "execution_count": 5,
      "metadata": {
        "id": "wEzXQYyjpGxf"
      },
      "outputs": [],
      "source": [
        "z = linkage(x, 'ward')"
      ]
    },
    {
      "cell_type": "code",
      "execution_count": 6,
      "metadata": {
        "id": "8J9-4oEmpGxf",
        "outputId": "09665bd5-95ae-4c85-d6eb-cbfcdb59f5ee",
        "colab": {
          "base_uri": "https://localhost:8080/",
          "height": 478
        }
      },
      "outputs": [
        {
          "output_type": "display_data",
          "data": {
            "text/plain": [
              "<Figure size 640x480 with 1 Axes>"
            ],
            "image/png": "[encoded data removed]"
          },
          "metadata": {}
        }
      ],
      "source": [
        "dendrogram( z, truncate_mode='lastp', p=12, leaf_rotation=.45, leaf_font_size=15, show_contracted=True )\n",
        "plt.title( 'Truncated Hierarchical Clustering Dendrogram' )\n",
        "plt.xlabel( 'Cluster Size' )\n",
        "plt.ylabel( 'Distance' )\n",
        "\n",
        "plt.axhline( y=500 )\n",
        "plt.axhline( y=150 )\n",
        "plt.show()\n",
        "# From graph we use cluster size as 2 as theres 2 points, max y value we can use is 400"
      ]
    },
    {
      "cell_type": "markdown",
      "metadata": {
        "id": "41H1d6QapGxf"
      },
      "source": [
        "### Generating hierarchical clusters"
      ]
    },
    {
      "cell_type": "code",
      "execution_count": 7,
      "metadata": {
        "id": "ALbrTHxipGxf",
        "outputId": "7b884871-65d8-4a3d-8c5d-79eef9278249",
        "colab": {
          "base_uri": "https://localhost:8080/"
        }
      },
      "outputs": [
        {
          "output_type": "execute_result",
          "data": {
            "text/plain": [
              "0.78125"
            ]
          },
          "metadata": {},
          "execution_count": 7
        }
      ],
      "source": [
        "# Parameter setting for this type of clustering is trial and error (find the best combination)\n",
        "k = 2\n",
        "\n",
        "Hclustering = AgglomerativeClustering( n_clusters=2, metric='euclidean', linkage='ward' )\n",
        "Hclustering.fit( x )\n",
        "\n",
        "sm.accuracy_score( y, Hclustering.labels_ )"
      ]
    },
    {
      "cell_type": "code",
      "execution_count": 8,
      "metadata": {
        "id": "opWR9P_PpGxg",
        "outputId": "b18395bf-6282-464d-e1ff-e77bda1d6220",
        "colab": {
          "base_uri": "https://localhost:8080/"
        }
      },
      "outputs": [
        {
          "output_type": "execute_result",
          "data": {
            "text/plain": [
              "0.78125"
            ]
          },
          "metadata": {},
          "execution_count": 8
        }
      ],
      "source": [
        "Hclustering = AgglomerativeClustering( n_clusters=2, metric='euclidean', linkage='average' )\n",
        "Hclustering.fit( x )\n",
        "\n",
        "sm.accuracy_score( y, Hclustering.labels_ )"
      ]
    },
    {
      "cell_type": "code",
      "execution_count": 9,
      "metadata": {
        "id": "Gclrz9UrpGxg",
        "outputId": "0dba771d-3ca0-4e55-9397-418d881d21d1",
        "colab": {
          "base_uri": "https://localhost:8080/"
        }
      },
      "outputs": [
        {
          "output_type": "execute_result",
          "data": {
            "text/plain": [
              "0.4375"
            ]
          },
          "metadata": {},
          "execution_count": 9
        }
      ],
      "source": [
        "Hclustering = AgglomerativeClustering( n_clusters=2, metric='euclidean', linkage='complete' )\n",
        "Hclustering.fit( x )\n",
        "\n",
        "sm.accuracy_score( y, Hclustering.labels_ )"
      ]
    },
    {
      "cell_type": "code",
      "source": [
        "Hclustering = AgglomerativeClustering( n_clusters=2, metric='manhattan', linkage='average' )\n",
        "Hclustering.fit( x )\n",
        "\n",
        "sm.accuracy_score( y, Hclustering.labels_ )"
      ],
      "metadata": {
        "id": "1rxkmTJf21vS",
        "outputId": "6b469568-72dc-4585-cd72-1b3bbde01261",
        "colab": {
          "base_uri": "https://localhost:8080/"
        }
      },
      "execution_count": 16,
      "outputs": [
        {
          "output_type": "execute_result",
          "data": {
            "text/plain": [
              "0.71875"
            ]
          },
          "metadata": {},
          "execution_count": 16
        }
      ]
    },
    {
      "cell_type": "code",
      "source": [
        "Hclustering = AgglomerativeClustering( n_clusters=2, metric='cosine', linkage='complete' )\n",
        "Hclustering.fit( x )\n",
        "\n",
        "sm.accuracy_score( y, Hclustering.labels_ )"
      ],
      "metadata": {
        "id": "HqoUWv6m2-o2",
        "outputId": "80f451da-1d9c-4548-be0b-715a6a8c83ad",
        "colab": {
          "base_uri": "https://localhost:8080/"
        }
      },
      "execution_count": 19,
      "outputs": [
        {
          "output_type": "execute_result",
          "data": {
            "text/plain": [
              "0.28125"
            ]
          },
          "metadata": {},
          "execution_count": 19
        }
      ]
    },
    {
      "cell_type": "code",
      "source": [],
      "metadata": {
        "id": "MXjC3NWr3MxV"
      },
      "execution_count": null,
      "outputs": []
    }
  ],
  "metadata": {
    "anaconda-cloud": {},
    "kernelspec": {
      "display_name": "Python 3",
      "language": "python",
      "name": "python3"
    },
    "language_info": {
      "codemirror_mode": {
        "name": "ipython",
        "version": 3
      },
      "file_extension": ".py",
      "mimetype": "text/x-python",
      "name": "python",
      "nbconvert_exporter": "python",
      "pygments_lexer": "ipython3",
      "version": "3.10.13"
    },
    "colab": {
      "provenance": []
    }
  },
  "nbformat": 4,
  "nbformat_minor": 0
}