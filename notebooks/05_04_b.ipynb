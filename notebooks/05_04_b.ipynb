{
  "cells": [
    {
      "cell_type": "markdown",
      "metadata": {
        "id": "4HE_KDDoQq0r"
      },
      "source": [
        "## Naive Bayes Classifiers"
      ]
    },
    {
      "cell_type": "code",
      "execution_count": 1,
      "metadata": {
        "id": "ZaJFto_wQq0s"
      },
      "outputs": [],
      "source": [
        "import numpy as np\n",
        "import pandas as pd\n",
        "\n",
        "import urllib\n",
        "\n",
        "import sklearn\n",
        "\n",
        "from sklearn.model_selection import train_test_split\n",
        "from sklearn import metrics\n",
        "from sklearn.metrics import accuracy_score"
      ]
    },
    {
      "cell_type": "code",
      "execution_count": 2,
      "metadata": {
        "id": "Jk2TlKysQq0t"
      },
      "outputs": [],
      "source": [
        "from sklearn.naive_bayes import BernoulliNB, GaussianNB, MultinomialNB"
      ]
    },
    {
      "cell_type": "code",
      "execution_count": 3,
      "metadata": {
        "scrolled": true,
        "id": "REP8TlRLQq0u",
        "outputId": "22a0997d-2f11-4563-aede-ea537276923d",
        "colab": {
          "base_uri": "https://localhost:8080/"
        }
      },
      "outputs": [
        {
          "output_type": "stream",
          "name": "stdout",
          "text": [
            "[  0.      0.64    0.64    0.      0.32    0.      0.      0.      0.\n",
            "   0.      0.      0.64    0.      0.      0.      0.32    0.      1.29\n",
            "   1.93    0.      0.96    0.      0.      0.      0.      0.      0.\n",
            "   0.      0.      0.      0.      0.      0.      0.      0.      0.\n",
            "   0.      0.      0.      0.      0.      0.      0.      0.      0.\n",
            "   0.      0.      0.      0.      0.      0.      0.778   0.      0.\n",
            "   3.756  61.    278.      1.   ]\n"
          ]
        }
      ],
      "source": [
        "# The spam dataset comes from University of California Irvine.\n",
        "url = \"https://archive.ics.uci.edu/ml/machine-learning-databases/spambase/spambase.data\"\n",
        "\n",
        "import urllib.request\n",
        "\n",
        "raw_data = urllib.request.urlopen(url)\n",
        "\n",
        "dataset = np.loadtxt( raw_data, delimiter=',')\n",
        "\n",
        "print(dataset[0])"
      ]
    },
    {
      "cell_type": "code",
      "execution_count": 4,
      "metadata": {
        "id": "aUojdIiCQq0u"
      },
      "outputs": [],
      "source": [
        "# only analyse 48 features that describe word freq counts\n",
        "x = dataset[:,0:48]\n",
        "y = dataset[:,-1]"
      ]
    },
    {
      "cell_type": "code",
      "execution_count": 5,
      "metadata": {
        "id": "wZNflpF_Qq0u"
      },
      "outputs": [],
      "source": [
        "x_train, x_test, y_train, y_test = train_test_split( x, y, test_size=0.2, random_state=17)"
      ]
    },
    {
      "cell_type": "code",
      "execution_count": 7,
      "metadata": {
        "id": "RgICQjp9Qq0u",
        "outputId": "f09d4152-a97e-43e7-c922-4c842ee86720",
        "colab": {
          "base_uri": "https://localhost:8080/"
        }
      },
      "outputs": [
        {
          "output_type": "stream",
          "name": "stdout",
          "text": [
            "0.8577633007600435\n"
          ]
        }
      ],
      "source": [
        "# Binning to binarise the data\n",
        "BernNB = BernoulliNB( binarize=True )\n",
        "\n",
        "BernNB.fit( x_train, y_train )\n",
        "\n",
        "y_expect = y_test\n",
        "\n",
        "y_pred = BernNB.predict( x_test )\n",
        "\n",
        "print( accuracy_score( y_expect, y_pred ) )"
      ]
    },
    {
      "cell_type": "code",
      "execution_count": 8,
      "metadata": {
        "id": "msLC8-YMQq0u",
        "outputId": "02caa4ac-ea81-47a5-fe4b-dea17d85cdd8",
        "colab": {
          "base_uri": "https://localhost:8080/"
        }
      },
      "outputs": [
        {
          "output_type": "stream",
          "name": "stdout",
          "text": [
            "0.8816503800217155\n"
          ]
        }
      ],
      "source": [
        "MultiNB = MultinomialNB()\n",
        "\n",
        "MultiNB.fit( x_train, y_train )\n",
        "\n",
        "y_expect = y_test\n",
        "\n",
        "y_pred = MultiNB.predict( x_test )\n",
        "\n",
        "print( accuracy_score( y_expect, y_pred ) )"
      ]
    },
    {
      "cell_type": "code",
      "execution_count": 9,
      "metadata": {
        "id": "ClLpZhEgQq0u",
        "outputId": "41057a04-fbac-4640-e91b-83d9cba2a28b",
        "colab": {
          "base_uri": "https://localhost:8080/"
        }
      },
      "outputs": [
        {
          "output_type": "stream",
          "name": "stdout",
          "text": [
            "0.8197611292073833\n"
          ]
        }
      ],
      "source": [
        "# Test as all data is numerical\n",
        "GausNB = GaussianNB()\n",
        "\n",
        "GausNB.fit( x_train, y_train )\n",
        "\n",
        "y_expect = y_test\n",
        "\n",
        "y_pred = GausNB.predict( x_test )\n",
        "\n",
        "print( accuracy_score( y_expect, y_pred ) )"
      ]
    },
    {
      "cell_type": "code",
      "execution_count": 10,
      "metadata": {
        "id": "5tBnks9oQq0v"
      },
      "outputs": [],
      "source": [
        "# Multinomial is the best model to use from above results"
      ]
    },
    {
      "cell_type": "code",
      "execution_count": 11,
      "metadata": {
        "id": "bRapN05SQq0v",
        "outputId": "3d24c083-7230-449f-8a83-05ed1f960f11",
        "colab": {
          "base_uri": "https://localhost:8080/"
        }
      },
      "outputs": [
        {
          "output_type": "stream",
          "name": "stdout",
          "text": [
            "0.9109663409337676\n"
          ]
        }
      ],
      "source": [
        "# However, after adjusting binning to binarise the data we get this to be the best result\n",
        "BernNB = BernoulliNB( binarize=0.1 )\n",
        "\n",
        "BernNB.fit( x_train, y_train )\n",
        "\n",
        "y_expect = y_test\n",
        "\n",
        "y_pred = BernNB.predict( x_test )\n",
        "\n",
        "print( accuracy_score( y_expect, y_pred ) )"
      ]
    },
    {
      "cell_type": "code",
      "source": [],
      "metadata": {
        "id": "7MzzrzUNUqax"
      },
      "execution_count": null,
      "outputs": []
    }
  ],
  "metadata": {
    "anaconda-cloud": {},
    "kernelspec": {
      "display_name": "Python 3 (ipykernel)",
      "language": "python",
      "name": "python3"
    },
    "language_info": {
      "codemirror_mode": {
        "name": "ipython",
        "version": 3
      },
      "file_extension": ".py",
      "mimetype": "text/x-python",
      "name": "python",
      "nbconvert_exporter": "python",
      "pygments_lexer": "ipython3",
      "version": "3.10.13"
    },
    "colab": {
      "provenance": []
    }
  },
  "nbformat": 4,
  "nbformat_minor": 0
}